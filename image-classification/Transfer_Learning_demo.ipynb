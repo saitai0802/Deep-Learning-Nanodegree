{
 "cells": [
  {
   "cell_type": "markdown",
   "metadata": {
    "deletable": true,
    "editable": true
   },
   "source": [
    "# Transfer Learning\n",
    "\n",
    "Most of the time you won't want to train a whole convolutional network yourself. Modern ConvNets training on huge datasets like ImageNet **take weeks on multiple GPUs**. Instead, most people use a pretrained network either as a fixed feature extractor, or as an initial network to fine tune. In this notebook, you'll be using [VGGNet](https://arxiv.org/pdf/1409.1556.pdf) trained on the [ImageNet dataset](http://www.image-net.org/) as a feature extractor. Below is a diagram of the VGGNet architecture.\n",
    "\n",
    "<img src=\"assets/cnnarchitecture.jpg\" width=700px>\n",
    "\n",
    "VGGNet is great because it's simple and has great performance, coming in second in the ImageNet competition. The idea here is that we keep all the convolutional layers, but replace the final fully connected layers with our own classifier. This way we can use VGGNet as a feature extractor for our images then easily train a simple classifier on top of that. What we'll do is take the first fully connected layer with 4096 units, including thresholding with ReLUs. We can use those values as a code for each image, then build a classifier on top of those codes.\n",
    "\n",
    "You can read more about transfer learning from [the CS231n course notes](http://cs231n.github.io/transfer-learning/#tf).\n",
    "\n",
    "## Pretrained VGGNet\n"
   ]
  },
  {
   "cell_type": "code",
   "execution_count": 1,
   "metadata": {
    "collapsed": false,
    "deletable": true,
    "editable": true
   },
   "outputs": [
    {
     "name": "stdout",
     "output_type": "stream",
     "text": [
      "Parameter file already exists!\n"
     ]
    }
   ],
   "source": [
    "from urllib.request import urlretrieve\n",
    "from os.path import isfile, isdir\n",
    "from tqdm import tqdm\n",
    "\n",
    "vgg_dir = 'tensorflow_vgg/'\n",
    "# Make sure vgg exists\n",
    "if not isdir(vgg_dir):\n",
    "    raise Exception(\"VGG directory doesn't exist!\")\n",
    "\n",
    "class DLProgress(tqdm):\n",
    "    last_block = 0\n",
    "\n",
    "    def hook(self, block_num=1, block_size=1, total_size=None):\n",
    "        self.total = total_size\n",
    "        self.update((block_num - self.last_block) * block_size)\n",
    "        self.last_block = block_num\n",
    "\n",
    "if not isfile(vgg_dir + \"vgg16.npy\"):\n",
    "    with DLProgress(unit='B', unit_scale=True, miniters=1, desc='VGG16 Parameters') as pbar:\n",
    "        urlretrieve(\n",
    "            'SORRY_THAT_I_CANT_PROVIDE_THE_PRETRAINED_ADDRESS_HERE.npy',\n",
    "            vgg_dir + 'vgg16.npy',\n",
    "            pbar.hook)\n",
    "else:\n",
    "    print(\"Parameter file already exists!\")"
   ]
  },
  {
   "cell_type": "markdown",
   "metadata": {
    "deletable": true,
    "editable": true
   },
   "source": [
    "## Flower power\n",
    "\n",
    "Here we'll be using VGGNet to classify images of flowers. To get the flower dataset, run the cell below. This dataset comes from the [TensorFlow inception transfer learning tutorial](https://www.tensorflow.org/tutorials/image_retraining). "
   ]
  },
  {
   "cell_type": "code",
   "execution_count": 2,
   "metadata": {
    "collapsed": false,
    "deletable": true,
    "editable": true
   },
   "outputs": [],
   "source": [
    "import tarfile\n",
    "\n",
    "dataset_folder_path = 'flower_photos'\n",
    "\n",
    "class DLProgress(tqdm):\n",
    "    last_block = 0\n",
    "\n",
    "    def hook(self, block_num=1, block_size=1, total_size=None):\n",
    "        self.total = total_size\n",
    "        self.update((block_num - self.last_block) * block_size)\n",
    "        self.last_block = block_num\n",
    "\n",
    "if not isfile('flower_photos.tar.gz'):\n",
    "    with DLProgress(unit='B', unit_scale=True, miniters=1, desc='Flowers Dataset') as pbar:\n",
    "        urlretrieve(\n",
    "            'http://download.tensorflow.org/example_images/flower_photos.tgz',\n",
    "            'flower_photos.tar.gz',\n",
    "            pbar.hook)\n",
    "\n",
    "if not isdir(dataset_folder_path):\n",
    "    with tarfile.open('flower_photos.tar.gz') as tar:\n",
    "        tar.extractall()\n",
    "        tar.close()"
   ]
  },
  {
   "cell_type": "markdown",
   "metadata": {
    "deletable": true,
    "editable": true
   },
   "source": [
    "## ConvNet Codes\n",
    "\n",
    "Below, we'll run through all the images in our dataset and get codes for each of them. That is, we'll run the images through the VGGNet convolutional layers and record the values of the first fully connected layer. We can then write these to a file for later when we build our own classifier."
   ]
  },
  {
   "cell_type": "code",
   "execution_count": 3,
   "metadata": {
    "collapsed": false,
    "deletable": true,
    "editable": true
   },
   "outputs": [],
   "source": [
    "import os\n",
    "\n",
    "import numpy as np\n",
    "import tensorflow as tf\n",
    "\n",
    "from tensorflow_vgg import vgg16\n",
    "from tensorflow_vgg import utils"
   ]
  },
  {
   "cell_type": "code",
   "execution_count": 4,
   "metadata": {
    "collapsed": false,
    "deletable": true,
    "editable": true
   },
   "outputs": [],
   "source": [
    "data_dir = 'flower_photos/'\n",
    "contents = os.listdir(data_dir)\n",
    "classes = [each for each in contents if os.path.isdir(data_dir + each)]"
   ]
  },
  {
   "cell_type": "code",
   "execution_count": 5,
   "metadata": {
    "collapsed": false,
    "deletable": true,
    "editable": true,
    "scrolled": true
   },
   "outputs": [
    {
     "name": "stdout",
     "output_type": "stream",
     "text": [
      "/home/carnd/sai-work/testing/1-transfer-learning/tensorflow_vgg/vgg16.npy\n",
      "npy file loaded\n",
      "build model started\n",
      "build model finished: 0s\n",
      "Starting dandelion images\n",
      "32 images processed\n",
      "64 images processed\n",
      "96 images processed\n",
      "128 images processed\n",
      "160 images processed\n",
      "192 images processed\n",
      "224 images processed\n",
      "256 images processed\n",
      "288 images processed\n",
      "320 images processed\n",
      "352 images processed\n",
      "384 images processed\n",
      "416 images processed\n",
      "448 images processed\n",
      "480 images processed\n",
      "512 images processed\n",
      "544 images processed\n",
      "576 images processed\n",
      "608 images processed\n",
      "640 images processed\n",
      "672 images processed\n",
      "704 images processed\n",
      "736 images processed\n",
      "768 images processed\n",
      "800 images processed\n",
      "832 images processed\n",
      "864 images processed\n",
      "896 images processed\n",
      "898 images processed\n",
      "Starting roses images\n",
      "32 images processed\n",
      "64 images processed\n",
      "96 images processed\n",
      "128 images processed\n",
      "160 images processed\n",
      "192 images processed\n",
      "224 images processed\n",
      "256 images processed\n",
      "288 images processed\n",
      "320 images processed\n",
      "352 images processed\n",
      "384 images processed\n",
      "416 images processed\n",
      "448 images processed\n",
      "480 images processed\n",
      "512 images processed\n",
      "544 images processed\n",
      "576 images processed\n",
      "608 images processed\n",
      "640 images processed\n",
      "641 images processed\n",
      "Starting daisy images\n",
      "32 images processed\n",
      "64 images processed\n",
      "96 images processed\n",
      "128 images processed\n",
      "160 images processed\n",
      "192 images processed\n",
      "224 images processed\n",
      "256 images processed\n",
      "288 images processed\n",
      "320 images processed\n",
      "352 images processed\n",
      "384 images processed\n",
      "416 images processed\n",
      "448 images processed\n",
      "480 images processed\n",
      "512 images processed\n",
      "544 images processed\n",
      "576 images processed\n",
      "608 images processed\n",
      "633 images processed\n",
      "Starting tulips images\n",
      "32 images processed\n",
      "64 images processed\n",
      "96 images processed\n",
      "128 images processed\n",
      "160 images processed\n",
      "192 images processed\n",
      "224 images processed\n",
      "256 images processed\n",
      "288 images processed\n",
      "320 images processed\n",
      "352 images processed\n",
      "384 images processed\n",
      "416 images processed\n",
      "448 images processed\n",
      "480 images processed\n",
      "512 images processed\n",
      "544 images processed\n",
      "576 images processed\n",
      "608 images processed\n",
      "640 images processed\n",
      "672 images processed\n",
      "704 images processed\n",
      "736 images processed\n",
      "768 images processed\n",
      "799 images processed\n",
      "Starting sunflowers images\n",
      "32 images processed\n",
      "64 images processed\n",
      "96 images processed\n",
      "128 images processed\n",
      "160 images processed\n",
      "192 images processed\n",
      "224 images processed\n",
      "256 images processed\n",
      "288 images processed\n",
      "320 images processed\n",
      "352 images processed\n",
      "384 images processed\n",
      "416 images processed\n",
      "448 images processed\n",
      "480 images processed\n",
      "512 images processed\n",
      "544 images processed\n",
      "576 images processed\n",
      "608 images processed\n",
      "640 images processed\n",
      "672 images processed\n",
      "699 images processed\n"
     ]
    }
   ],
   "source": [
    "batch_size = 32\n",
    "codes_list = []\n",
    "labels = []\n",
    "batch = []\n",
    "\n",
    "codes = None\n",
    "\n",
    "with tf.Session() as sess:\n",
    "    \n",
    "    # Build the vgg network here\n",
    "    vgg = vgg16.Vgg16()\n",
    "    input_ = tf.placeholder(tf.float32, [None, 224, 224, 3])\n",
    "    with tf.name_scope(\"content_vgg\"):\n",
    "        vgg.build(input_)\n",
    "\n",
    "    for each in classes:\n",
    "        print(\"Starting {} images\".format(each))\n",
    "        class_path = data_dir + each\n",
    "        files = os.listdir(class_path)\n",
    "        for ii, file in enumerate(files, 1):\n",
    "            \n",
    "            img = utils.load_image(os.path.join(class_path, file))\n",
    "            batch.append(img.reshape((1, 224, 224, 3))) \n",
    "            labels.append(each)\n",
    "            \n",
    "            # Running the batch through the network to get the codes\n",
    "            if ii % batch_size == 0 or ii == len(files):\n",
    "                \n",
    "                # Image batch to pass to VGG network\n",
    "                images = np.concatenate(batch)\n",
    "                \n",
    "                feed_dict = {input_: images}\n",
    "                codes_batch = sess.run(vgg.relu6, feed_dict=feed_dict)\n",
    "                \n",
    "                # Here I'm building an array of the codes\n",
    "                if codes is None:\n",
    "                    codes = codes_batch\n",
    "                else:\n",
    "                    codes = np.concatenate((codes, codes_batch))\n",
    "                \n",
    "                # Reset to start building the next batch\n",
    "                batch = []\n",
    "                print('{} images processed'.format(ii))"
   ]
  },
  {
   "cell_type": "code",
   "execution_count": 6,
   "metadata": {
    "collapsed": false,
    "deletable": true,
    "editable": true
   },
   "outputs": [],
   "source": [
    "# write codes to file\n",
    "with open('codes', 'w') as f:\n",
    "    codes.tofile(f)\n",
    "    \n",
    "# write labels to file\n",
    "import csv\n",
    "with open('labels', 'w') as f:\n",
    "    writer = csv.writer(f, delimiter='\\n')\n",
    "    writer.writerow(labels)"
   ]
  },
  {
   "cell_type": "markdown",
   "metadata": {
    "deletable": true,
    "editable": true
   },
   "source": [
    "## Building the Classifier\n",
    "\n"
   ]
  },
  {
   "cell_type": "code",
   "execution_count": 7,
   "metadata": {
    "collapsed": false,
    "deletable": true,
    "editable": true
   },
   "outputs": [],
   "source": [
    "# read codes and labels from file\n",
    "import csv\n",
    "\n",
    "with open('labels') as f:\n",
    "    reader = csv.reader(f, delimiter='\\n')\n",
    "    labels = np.array([each for each in reader]).squeeze()\n",
    "with open('codes') as f:\n",
    "    codes = np.fromfile(f, dtype=np.float32)\n",
    "    codes = codes.reshape((len(labels), -1))"
   ]
  },
  {
   "cell_type": "markdown",
   "metadata": {
    "deletable": true,
    "editable": true
   },
   "source": [
    "### Data prep\n",
    "\n",
    "As usual, now we need to one-hot encode our labels and create validation/test sets. First up, creating our labels!\n",
    "\n"
   ]
  },
  {
   "cell_type": "code",
   "execution_count": 8,
   "metadata": {
    "collapsed": false,
    "deletable": true,
    "editable": true
   },
   "outputs": [
    {
     "name": "stdout",
     "output_type": "stream",
     "text": [
      "[0 1 0 0 0]\n",
      "[0 0 1 0 0]\n",
      "[1 0 0 0 0]\n"
     ]
    }
   ],
   "source": [
    "from sklearn.preprocessing import LabelBinarizer\n",
    "\n",
    "lb = LabelBinarizer()\n",
    "lb.fit(labels)\n",
    "\n",
    "labels_vecs = lb.transform(labels)\n",
    "print(labels_vecs[0])\n",
    "print(labels_vecs[1000])\n",
    "print(labels_vecs[2000]) "
   ]
  },
  {
   "cell_type": "code",
   "execution_count": 9,
   "metadata": {
    "collapsed": false,
    "deletable": true,
    "editable": true
   },
   "outputs": [
    {
     "name": "stdout",
     "output_type": "stream",
     "text": [
      "1\n"
     ]
    }
   ],
   "source": [
    "from sklearn.model_selection import StratifiedShuffleSplit\n",
    "\n",
    "# 0.8 - training data\n",
    "# 0.2 - Validation and testing data\n",
    "ss = StratifiedShuffleSplit(n_splits=1, test_size=0.2)\n",
    "sai_testing = ss.get_n_splits(codes, labels)\n",
    "print(sai_testing)\n",
    "\n",
    "train_idx, val_idx = next(ss.split(codes, labels))\n",
    "\n",
    "half_val_len = int(len(val_idx)/2)\n",
    "val_idx, test_idx = val_idx[:half_val_len], val_idx[half_val_len:]\n",
    "\n",
    "train_x, train_y = codes[train_idx], labels_vecs[train_idx]\n",
    "val_x, val_y = codes[val_idx], labels_vecs[val_idx]\n",
    "test_x, test_y = codes[test_idx], labels_vecs[test_idx]"
   ]
  },
  {
   "cell_type": "code",
   "execution_count": 10,
   "metadata": {
    "collapsed": false,
    "deletable": true,
    "editable": true
   },
   "outputs": [
    {
     "name": "stdout",
     "output_type": "stream",
     "text": [
      "Train shapes (x, y): (2936, 4096) (2936, 5)\n",
      "Validation shapes (x, y): (367, 4096) (367, 5)\n",
      "Test shapes (x, y): (367, 4096) (367, 5)\n"
     ]
    }
   ],
   "source": [
    "print(\"Train shapes (x, y):\", train_x.shape, train_y.shape)\n",
    "print(\"Validation shapes (x, y):\", val_x.shape, val_y.shape)\n",
    "print(\"Test shapes (x, y):\", test_x.shape, test_y.shape)"
   ]
  },
  {
   "cell_type": "markdown",
   "metadata": {
    "deletable": true,
    "editable": true
   },
   "source": [
    "If you did it right, you should see these sizes for the training sets:\n",
    "\n",
    "```\n",
    "Train shapes (x, y): (2936, 4096) (2936, 5)\n",
    "Validation shapes (x, y): (367, 4096) (367, 5)\n",
    "Test shapes (x, y): (367, 4096) (367, 5)\n",
    "```"
   ]
  },
  {
   "cell_type": "markdown",
   "metadata": {
    "deletable": true,
    "editable": true
   },
   "source": [
    "### Classifier layers\n",
    "\n",
    "Once you have the convolutional codes, you just need to build a classfier from some fully connected layers. You use the codes as the inputs and the image labels as targets. Otherwise the classifier is a typical neural network."
   ]
  },
  {
   "cell_type": "code",
   "execution_count": 11,
   "metadata": {
    "collapsed": false,
    "deletable": true,
    "editable": true
   },
   "outputs": [],
   "source": [
    "inputs_ = tf.placeholder(tf.float32, shape=[None, codes.shape[1]])\n",
    "labels_ = tf.placeholder(tf.int64, shape=[None, labels_vecs.shape[1]])\n",
    "\n",
    "fc = tf.contrib.layers.fully_connected(inputs_, 256)\n",
    "    \n",
    "# output layer logits    \n",
    "logits = tf.contrib.layers.fully_connected(fc, labels_vecs.shape[1], activation_fn=None)\n",
    "# cross entropy loss\n",
    "cross_entropy = tf.nn.softmax_cross_entropy_with_logits(labels=labels_, logits=logits)\n",
    "cost = tf.reduce_mean(cross_entropy)\n",
    "\n",
    "# training optimizer\n",
    "optimizer = tf.train.AdamOptimizer().minimize(cost)\n",
    "\n",
    "#============================================\n",
    "# Operations for validation accuracy\n",
    "predicted = tf.nn.softmax(logits)\n",
    "correct_pred = tf.equal(tf.argmax(predicted, 1), tf.argmax(labels_, 1))\n",
    "accuracy = tf.reduce_mean(tf.cast(correct_pred, tf.float32))"
   ]
  },
  {
   "cell_type": "markdown",
   "metadata": {
    "deletable": true,
    "editable": true
   },
   "source": [
    "### Batches!"
   ]
  },
  {
   "cell_type": "code",
   "execution_count": 12,
   "metadata": {
    "collapsed": false,
    "deletable": true,
    "editable": true
   },
   "outputs": [],
   "source": [
    "def get_batches(x, y, n_batches=10):\n",
    "    \"\"\" Return a generator that yields batches from arrays x and y. \"\"\"\n",
    "    batch_size = len(x)//n_batches\n",
    "    \n",
    "    for ii in range(0, n_batches*batch_size, batch_size):\n",
    "        # If we're not on the last batch, grab data with size batch_size\n",
    "        if ii != (n_batches-1)*batch_size:\n",
    "            X, Y = x[ii: ii+batch_size], y[ii: ii+batch_size] \n",
    "        # On the last batch, grab the rest of the data\n",
    "        else:\n",
    "            X, Y = x[ii:], y[ii:] #Sai: grab all the remaining data\n",
    "        # I love generators\n",
    "        yield X, Y"
   ]
  },
  {
   "cell_type": "markdown",
   "metadata": {
    "deletable": true,
    "editable": true
   },
   "source": [
    "### Training\n",
    "\n",
    "Here, we'll train the network."
   ]
  },
  {
   "cell_type": "code",
   "execution_count": 21,
   "metadata": {
    "collapsed": false,
    "deletable": true,
    "editable": true,
    "scrolled": true
   },
   "outputs": [
    {
     "name": "stdout",
     "output_type": "stream",
     "text": [
      "Epoch: 1/10 Iteration: 0 Training loss: 8.76977\n",
      "Epoch: 1/10 Iteration: 1 Training loss: 16.79789\n",
      "Epoch: 1/10 Iteration: 2 Training loss: 16.06400\n",
      "Epoch: 1/10 Iteration: 3 Training loss: 9.43594\n",
      "Epoch: 1/10 Iteration: 4 Training loss: 5.30178\n",
      "Epoch: 0/10 Iteration: 5 Validation Acc: 0.7084\n",
      "Epoch: 1/10 Iteration: 5 Training loss: 2.86119\n",
      "Epoch: 1/10 Iteration: 6 Training loss: 1.26764\n",
      "Epoch: 1/10 Iteration: 7 Training loss: 2.03230\n",
      "Epoch: 1/10 Iteration: 8 Training loss: 1.85715\n",
      "Epoch: 1/10 Iteration: 9 Training loss: 2.60331\n",
      "Epoch: 0/10 Iteration: 10 Validation Acc: 0.6785\n",
      "Epoch: 2/10 Iteration: 10 Training loss: 1.20316\n",
      "Epoch: 2/10 Iteration: 11 Training loss: 1.40339\n",
      "Epoch: 2/10 Iteration: 12 Training loss: 1.03569\n",
      "Epoch: 2/10 Iteration: 13 Training loss: 1.04686\n",
      "Epoch: 2/10 Iteration: 14 Training loss: 0.68544\n",
      "Epoch: 1/10 Iteration: 15 Validation Acc: 0.8065\n",
      "Epoch: 2/10 Iteration: 15 Training loss: 0.76203\n",
      "Epoch: 2/10 Iteration: 16 Training loss: 0.52699\n",
      "Epoch: 2/10 Iteration: 17 Training loss: 0.63290\n",
      "Epoch: 2/10 Iteration: 18 Training loss: 0.45558\n",
      "Epoch: 2/10 Iteration: 19 Training loss: 0.81644\n",
      "Epoch: 1/10 Iteration: 20 Validation Acc: 0.7984\n",
      "Epoch: 3/10 Iteration: 20 Training loss: 0.49786\n",
      "Epoch: 3/10 Iteration: 21 Training loss: 0.76091\n",
      "Epoch: 3/10 Iteration: 22 Training loss: 0.58446\n",
      "Epoch: 3/10 Iteration: 23 Training loss: 0.30560\n",
      "Epoch: 3/10 Iteration: 24 Training loss: 0.33132\n",
      "Epoch: 2/10 Iteration: 25 Validation Acc: 0.8501\n",
      "Epoch: 3/10 Iteration: 25 Training loss: 0.32752\n",
      "Epoch: 3/10 Iteration: 26 Training loss: 0.31242\n",
      "Epoch: 3/10 Iteration: 27 Training loss: 0.37006\n",
      "Epoch: 3/10 Iteration: 28 Training loss: 0.17609\n",
      "Epoch: 3/10 Iteration: 29 Training loss: 0.31016\n",
      "Epoch: 2/10 Iteration: 30 Validation Acc: 0.8474\n",
      "Epoch: 4/10 Iteration: 30 Training loss: 0.19605\n",
      "Epoch: 4/10 Iteration: 31 Training loss: 0.31891\n",
      "Epoch: 4/10 Iteration: 32 Training loss: 0.23521\n",
      "Epoch: 4/10 Iteration: 33 Training loss: 0.24035\n",
      "Epoch: 4/10 Iteration: 34 Training loss: 0.20631\n",
      "Epoch: 3/10 Iteration: 35 Validation Acc: 0.8447\n",
      "Epoch: 4/10 Iteration: 35 Training loss: 0.27472\n",
      "Epoch: 4/10 Iteration: 36 Training loss: 0.24139\n",
      "Epoch: 4/10 Iteration: 37 Training loss: 0.26778\n",
      "Epoch: 4/10 Iteration: 38 Training loss: 0.13016\n",
      "Epoch: 4/10 Iteration: 39 Training loss: 0.19471\n",
      "Epoch: 3/10 Iteration: 40 Validation Acc: 0.8529\n",
      "Epoch: 5/10 Iteration: 40 Training loss: 0.11803\n",
      "Epoch: 5/10 Iteration: 41 Training loss: 0.24691\n",
      "Epoch: 5/10 Iteration: 42 Training loss: 0.15978\n",
      "Epoch: 5/10 Iteration: 43 Training loss: 0.13694\n",
      "Epoch: 5/10 Iteration: 44 Training loss: 0.14344\n",
      "Epoch: 4/10 Iteration: 45 Validation Acc: 0.8774\n",
      "Epoch: 5/10 Iteration: 45 Training loss: 0.18352\n",
      "Epoch: 5/10 Iteration: 46 Training loss: 0.16558\n",
      "Epoch: 5/10 Iteration: 47 Training loss: 0.17549\n",
      "Epoch: 5/10 Iteration: 48 Training loss: 0.09812\n",
      "Epoch: 5/10 Iteration: 49 Training loss: 0.14401\n",
      "Epoch: 4/10 Iteration: 50 Validation Acc: 0.8937\n",
      "Epoch: 6/10 Iteration: 50 Training loss: 0.08862\n",
      "Epoch: 6/10 Iteration: 51 Training loss: 0.18408\n",
      "Epoch: 6/10 Iteration: 52 Training loss: 0.11358\n",
      "Epoch: 6/10 Iteration: 53 Training loss: 0.10922\n",
      "Epoch: 6/10 Iteration: 54 Training loss: 0.10278\n",
      "Epoch: 5/10 Iteration: 55 Validation Acc: 0.8828\n",
      "Epoch: 6/10 Iteration: 55 Training loss: 0.12970\n",
      "Epoch: 6/10 Iteration: 56 Training loss: 0.12841\n",
      "Epoch: 6/10 Iteration: 57 Training loss: 0.12009\n",
      "Epoch: 6/10 Iteration: 58 Training loss: 0.07024\n",
      "Epoch: 6/10 Iteration: 59 Training loss: 0.10040\n",
      "Epoch: 5/10 Iteration: 60 Validation Acc: 0.8828\n",
      "Epoch: 7/10 Iteration: 60 Training loss: 0.05630\n",
      "Epoch: 7/10 Iteration: 61 Training loss: 0.13034\n",
      "Epoch: 7/10 Iteration: 62 Training loss: 0.08547\n",
      "Epoch: 7/10 Iteration: 63 Training loss: 0.08669\n",
      "Epoch: 7/10 Iteration: 64 Training loss: 0.08089\n",
      "Epoch: 6/10 Iteration: 65 Validation Acc: 0.8883\n",
      "Epoch: 7/10 Iteration: 65 Training loss: 0.10302\n",
      "Epoch: 7/10 Iteration: 66 Training loss: 0.09571\n",
      "Epoch: 7/10 Iteration: 67 Training loss: 0.08869\n",
      "Epoch: 7/10 Iteration: 68 Training loss: 0.05873\n",
      "Epoch: 7/10 Iteration: 69 Training loss: 0.07170\n",
      "Epoch: 6/10 Iteration: 70 Validation Acc: 0.8856\n",
      "Epoch: 8/10 Iteration: 70 Training loss: 0.04405\n",
      "Epoch: 8/10 Iteration: 71 Training loss: 0.10195\n",
      "Epoch: 8/10 Iteration: 72 Training loss: 0.06496\n",
      "Epoch: 8/10 Iteration: 73 Training loss: 0.06724\n",
      "Epoch: 8/10 Iteration: 74 Training loss: 0.05460\n",
      "Epoch: 7/10 Iteration: 75 Validation Acc: 0.8828\n",
      "Epoch: 8/10 Iteration: 75 Training loss: 0.06917\n",
      "Epoch: 8/10 Iteration: 76 Training loss: 0.07470\n",
      "Epoch: 8/10 Iteration: 77 Training loss: 0.06849\n",
      "Epoch: 8/10 Iteration: 78 Training loss: 0.05130\n",
      "Epoch: 8/10 Iteration: 79 Training loss: 0.05557\n",
      "Epoch: 7/10 Iteration: 80 Validation Acc: 0.8801\n",
      "Epoch: 9/10 Iteration: 80 Training loss: 0.03440\n",
      "Epoch: 9/10 Iteration: 81 Training loss: 0.07572\n",
      "Epoch: 9/10 Iteration: 82 Training loss: 0.05125\n",
      "Epoch: 9/10 Iteration: 83 Training loss: 0.05185\n",
      "Epoch: 9/10 Iteration: 84 Training loss: 0.04569\n",
      "Epoch: 8/10 Iteration: 85 Validation Acc: 0.8883\n",
      "Epoch: 9/10 Iteration: 85 Training loss: 0.05858\n",
      "Epoch: 9/10 Iteration: 86 Training loss: 0.05711\n",
      "Epoch: 9/10 Iteration: 87 Training loss: 0.05114\n",
      "Epoch: 9/10 Iteration: 88 Training loss: 0.04103\n",
      "Epoch: 9/10 Iteration: 89 Training loss: 0.04436\n",
      "Epoch: 8/10 Iteration: 90 Validation Acc: 0.8801\n",
      "Epoch: 10/10 Iteration: 90 Training loss: 0.02790\n",
      "Epoch: 10/10 Iteration: 91 Training loss: 0.06037\n",
      "Epoch: 10/10 Iteration: 92 Training loss: 0.04156\n",
      "Epoch: 10/10 Iteration: 93 Training loss: 0.04310\n",
      "Epoch: 10/10 Iteration: 94 Training loss: 0.03697\n",
      "Epoch: 9/10 Iteration: 95 Validation Acc: 0.8910\n",
      "Epoch: 10/10 Iteration: 95 Training loss: 0.04518\n",
      "Epoch: 10/10 Iteration: 96 Training loss: 0.04539\n",
      "Epoch: 10/10 Iteration: 97 Training loss: 0.04048\n",
      "Epoch: 10/10 Iteration: 98 Training loss: 0.03363\n",
      "Epoch: 10/10 Iteration: 99 Training loss: 0.03617\n",
      "Epoch: 9/10 Iteration: 100 Validation Acc: 0.8856\n"
     ]
    }
   ],
   "source": [
    "epochs = 10\n",
    "iteration = 0\n",
    "saver = tf.train.Saver()\n",
    "with tf.Session() as sess:\n",
    "    \n",
    "    # Training code here\n",
    "    sess.run(tf.global_variables_initializer())\n",
    "    for e in range(epochs):\n",
    "        for x, y in get_batches(train_x, train_y):\n",
    "            feed = {inputs_: x,\n",
    "                    labels_: y}\n",
    "            loss, _ = sess.run([cost, optimizer], feed_dict=feed)\n",
    "            print(\"Epoch: {}/{}\".format(e+1, epochs),\n",
    "                  \"Iteration: {}\".format(iteration),\n",
    "                  \"Training loss: {:.5f}\".format(loss))\n",
    "            iteration += 1\n",
    "            \n",
    "            # 夠5次iteration就睇下Validation 情況係點。\n",
    "            if iteration % 5 == 0:\n",
    "                feed = {inputs_: val_x,\n",
    "                        labels_: val_y}\n",
    "                val_acc = sess.run(accuracy, feed_dict=feed)\n",
    "                print(\"Epoch: {}/{}\".format(e, epochs),\n",
    "                      \"Iteration: {}\".format(iteration),\n",
    "                      \"Validation Acc: {:.4f}\".format(val_acc))\n",
    "    \n",
    "    saver.save(sess, \"checkpoints/flowers.ckpt\")"
   ]
  },
  {
   "cell_type": "markdown",
   "metadata": {
    "deletable": true,
    "editable": true
   },
   "source": [
    "### Testing\n",
    "\n",
    "Below you see the test accuracy. You can also see the predictions returned for images."
   ]
  },
  {
   "cell_type": "code",
   "execution_count": 22,
   "metadata": {
    "collapsed": false,
    "deletable": true,
    "editable": true
   },
   "outputs": [
    {
     "name": "stdout",
     "output_type": "stream",
     "text": [
      "Test accuracy: 0.9074\n"
     ]
    }
   ],
   "source": [
    "with tf.Session() as sess:\n",
    "    saver.restore(sess, tf.train.latest_checkpoint('checkpoints'))\n",
    "    \n",
    "    feed = {inputs_: test_x,\n",
    "            labels_: test_y}\n",
    "    test_acc = sess.run(accuracy, feed_dict=feed)\n",
    "    print(\"Test accuracy: {:.4f}\".format(test_acc))"
   ]
  },
  {
   "cell_type": "code",
   "execution_count": 23,
   "metadata": {
    "collapsed": true,
    "deletable": true,
    "editable": true
   },
   "outputs": [],
   "source": [
    "%matplotlib inline\n",
    "\n",
    "import matplotlib.pyplot as plt\n",
    "from scipy.ndimage import imread"
   ]
  },
  {
   "cell_type": "markdown",
   "metadata": {
    "deletable": true,
    "editable": true
   },
   "source": [
    "Below, feel free to choose images and see how the trained classifier predicts the flowers in them."
   ]
  },
  {
   "cell_type": "code",
   "execution_count": 24,
   "metadata": {
    "collapsed": false,
    "deletable": true,
    "editable": true
   },
   "outputs": [
    {
     "data": {
      "text/plain": [
       "<matplotlib.image.AxesImage at 0x7ff90cde6320>"
      ]
     },
     "execution_count": 24,
     "metadata": {},
     "output_type": "execute_result"
    },
    {
     "data": {
      "image/png": "iVBORw0KGgoAAAANSUhEUgAAAQUAAAD8CAYAAAB+fLH0AAAABHNCSVQICAgIfAhkiAAAAAlwSFlz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